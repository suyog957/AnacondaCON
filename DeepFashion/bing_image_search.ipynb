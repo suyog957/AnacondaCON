{
 "cells": [
  {
   "cell_type": "markdown",
   "metadata": {
    "collapsed": true
   },
   "source": [
    "## Bing Image Search API\n",
    "\n",
    "For more information, and for a link to the API reference, see [documentation](https://azure.microsoft.com/en-us/services/cognitive-services/bing-image-search-api?WT.mc_id=anacondacon-twitter-pabailey)."
   ]
  },
  {
   "cell_type": "code",
   "execution_count": null,
   "metadata": {},
   "outputs": [],
   "source": [
    "import requests\n",
    "\n",
    "# Obtain subscription key for Bing Image Search API.\n",
    "subscription_key = 'insert your key here'\n",
    "assert subscription_key\n",
    "\n",
    "# Specify location and search terms.\n",
    "search_url = \"https://api.cognitive.microsoft.com/bing/v7.0/images/search\"\n",
    "search_term = \"flowered dresses\"\n",
    "\n",
    "# Headers and parameters. For full listing, check source documentation.\n",
    "headers = {\"Ocp-Apim-Subscription-Key\" : subscription_key}\n",
    "params  = {\"q\": search_term, \n",
    "           \"license\": \"public\", \n",
    "           \"imageType\": \"photo\"}\n",
    "\n",
    "# Bing Image Search results.\n",
    "response = requests.get(search_url, headers=headers, params=params)\n",
    "response.raise_for_status()\n",
    "search_results = response.json()"
   ]
  }
 ],
 "metadata": {
  "kernelspec": {
   "display_name": "Python 3.6",
   "language": "python",
   "name": "python36"
  },
  "language_info": {
   "codemirror_mode": {
    "name": "ipython",
    "version": 3
   },
   "file_extension": ".py",
   "mimetype": "text/x-python",
   "name": "python",
   "nbconvert_exporter": "python",
   "pygments_lexer": "ipython3",
   "version": "3.6.3"
  }
 },
 "nbformat": 4,
 "nbformat_minor": 2
}
