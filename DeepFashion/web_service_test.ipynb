{
 "cells": [
  {
   "cell_type": "markdown",
   "metadata": {
    "collapsed": true
   },
   "source": [
    "## Call the web service using Python\n",
    "\n",
    "Use Python to send a request to your real-time web service. \n",
    "\n",
    "1. Copy the following code sample to a new Python file.\n",
    "2. Update the data, url, and api_key parameters. For local web services, remove the 'Authorization' header.\n",
    "3. Run the code. \n",
    "\n",
    "For more information, see [Model Management Consumption](https://docs.microsoft.com/en-us/azure/machine-learning/preview/model-management-consumption)."
   ]
  },
  {
   "cell_type": "code",
   "execution_count": null,
   "metadata": {},
   "outputs": [],
   "source": [
    "import requests\n",
    "import json\n",
    "\n",
    "data = \"{\\\"input_df\\\": [{\\\"feature1\\\": value1, \\\"feature2\\\": value2}]}\"\n",
    "body = str.encode(json.dumps(data))\n",
    "\n",
    "url = 'http://<service ip address>:80/api/v1/service/<service name>/score'\n",
    "api_key = 'your service key' \n",
    "headers = {'Content-Type':'application/json', 'Authorization':('Bearer '+ api_key)}\n",
    "\n",
    "resp = requests.post(url, data, headers=headers)\n",
    "resp.text"
   ]
  }
 ],
 "metadata": {
  "kernelspec": {
   "display_name": "Python 3.6",
   "language": "python",
   "name": "python36"
  },
  "language_info": {
   "codemirror_mode": {
    "name": "ipython",
    "version": 3
   },
   "file_extension": ".py",
   "mimetype": "text/x-python",
   "name": "python",
   "nbconvert_exporter": "python",
   "pygments_lexer": "ipython3",
   "version": "3.6.3"
  }
 },
 "nbformat": 4,
 "nbformat_minor": 2
}
