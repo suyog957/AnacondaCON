{
 "cells": [
  {
   "cell_type": "markdown",
   "metadata": {},
   "source": [
    "## Inferencing Script\n",
    "\n",
    "This script is used in combination with a trained model (here, `retrained_graph.pb`) and its labels (`retrained_labels.txt`) to classify a new image input.\n",
    "\n",
    "Utilization from the command line: \n",
    "\n",
    "`>> python path/to/labeler.py /path/to/test_image.jpg`"
   ]
  },
  {
   "cell_type": "code",
   "execution_count": null,
   "metadata": {},
   "outputs": [],
   "source": [
    "import tensorflow as tf, sys\n",
    "\n",
    "# Takes in command line input.\n",
    "image_path = sys.argv[1]\n",
    "\n",
    "# Read in the image data.\n",
    "image_data = tf.gfile.FastGFile(image_path, 'rb').read()\n",
    "\n",
    "# Loads the label file and strips off the carriage returns.\n",
    "label_lines = [line.rstrip() for line in tf.gfile.GFile(\"/insert/your/path/to/retrained_labels.txt\")]\n",
    "\n",
    "# Unpersists the graph from file.\n",
    "with tf.gfile.FastGFile(\"/insert/your/path/to/retrained_graph.pb\", 'rb') as f:\n",
    "    graph_def = tf.GraphDef()\n",
    "    graph_def.ParseFromString(f.read())\n",
    "    _ = tf.import_graph_def(graph_def, name='')\n",
    "    \n",
    "# Feeds the image data as input to the graph, and gets the first prediction.\n",
    "with tf.Session() as sess:\n",
    "    softmax_tensor = sess.graph.get_tensor_by_name('final_result:0')\n",
    "    predictions = sess.run(softmax_tensor, {'DecodeJpeg/contents:0': image_data})\n",
    "    \n",
    "    # Sort to show labels of first prediction in order of confidence\n",
    "    top_k = predictions[0].argsort()[-len(predictions[0]):][::-1]\n",
    "\n",
    "    for node_id in top_k:\n",
    "        human_string = label_lines[node_id]\n",
    "        score = predictions[0][node_id]\n",
    "        print('%s (score = %.5f)' % (human_string, score))"
   ]
  }
 ],
 "metadata": {
  "kernelspec": {
   "display_name": "Python 3.6",
   "language": "python",
   "name": "python36"
  },
  "language_info": {
   "codemirror_mode": {
    "name": "ipython",
    "version": 3
   },
   "file_extension": ".py",
   "mimetype": "text/x-python",
   "name": "python",
   "nbconvert_exporter": "python",
   "pygments_lexer": "ipython3",
   "version": "3.6.3"
  }
 },
 "nbformat": 4,
 "nbformat_minor": 2
}
